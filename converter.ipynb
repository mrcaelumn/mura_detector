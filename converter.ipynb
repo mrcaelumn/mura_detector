{
 "cells": [
  {
   "cell_type": "code",
   "execution_count": null,
   "id": "270c96dc",
   "metadata": {},
   "outputs": [],
   "source": [
    "from PIL import Image\n",
    "import os\n",
    " \n",
    "Input_dir = 'mura_data/new_normal_images/'\n",
    "Out_dir = 'mura_data/new_grayscale_images/'\n",
    "a = os.listdir(Input_dir)\n",
    " \n",
    "for i in a:\n",
    "    print(i)\n",
    "    I = Image.open(Input_dir+i)\n",
    "    L = I.convert('L')\n",
    "    L.save(Out_dir+i)"
   ]
  },
  {
   "cell_type": "code",
   "execution_count": null,
   "id": "641189d9",
   "metadata": {
    "collapsed": false,
    "jupyter": {
     "outputs_hidden": false
    },
    "pycharm": {
     "name": "#%%\n"
    }
   },
   "outputs": [],
   "source": []
  }
 ],
 "metadata": {
  "kernelspec": {
   "display_name": "Python 3",
   "language": "python",
   "name": "python3"
  },
  "language_info": {
   "codemirror_mode": {
    "name": "ipython",
    "version": 3
   },
   "file_extension": ".py",
   "mimetype": "text/x-python",
   "name": "python",
   "nbconvert_exporter": "python",
   "pygments_lexer": "ipython3",
   "version": "3.8.2"
  }
 },
 "nbformat": 4,
 "nbformat_minor": 5
}
