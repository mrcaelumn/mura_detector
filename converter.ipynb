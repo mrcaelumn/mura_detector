{
 "cells": [
  {
   "cell_type": "code",
   "execution_count": null,
   "id": "057adc90",
   "metadata": {},
   "outputs": [],
   "source": [
    "from PIL import Image\n",
    "import os"
   ]
  },
  {
   "cell_type": "code",
   "execution_count": null,
   "id": "dab68080",
   "metadata": {},
   "outputs": [],
   "source": [
    "## convert colour of images\n",
    "\n",
    "# Input_dir = 'rgb_serius_defect/'\n",
    "# Out_dir = 'grayscale_serius_defect/'\n",
    "# a = os.listdir(Input_dir)\n",
    "# # convert into grayscale images\n",
    "# for i in a:\n",
    "#     print(i)\n",
    "#     I = Image.open(Input_dir+i)\n",
    "#     L = I.convert('L')\n",
    "#     L.save(Out_dir+i)\n"
   ]
  },
  {
   "cell_type": "code",
   "execution_count": null,
   "id": "3cfdd16b",
   "metadata": {
    "collapsed": false,
    "jupyter": {
     "outputs_hidden": false
    },
    "pycharm": {
     "name": "#%%\n"
    }
   },
   "outputs": [],
   "source": [
    "## convert format of images\n",
    "fildir = 'prod_data/RGB/new_train_data/clahe_normal/'\n",
    "# outdir = 'numbers/train/normal_updated'\n",
    "a = os.listdir(fildir)\n",
    "# convert into grayscale images\n",
    "newsize = (481, 271)\n",
    "for i in a:\n",
    "    print(i)\n",
    "    \n",
    "    \n",
    "    I = Image.open(fildir+i)\n",
    "    resize_I = I.resize(newsize)\n",
    "    resize_I.save(fildir+i)"
   ]
  },
  {
   "cell_type": "code",
   "execution_count": null,
   "id": "ddbb486d",
   "metadata": {},
   "outputs": [],
   "source": []
  }
 ],
 "metadata": {
  "kernelspec": {
   "display_name": "Python 3 (ipykernel)",
   "language": "python",
   "name": "python3"
  },
  "language_info": {
   "codemirror_mode": {
    "name": "ipython",
    "version": 3
   },
   "file_extension": ".py",
   "mimetype": "text/x-python",
   "name": "python",
   "nbconvert_exporter": "python",
   "pygments_lexer": "ipython3",
   "version": "3.9.7"
  }
 },
 "nbformat": 4,
 "nbformat_minor": 5
}
