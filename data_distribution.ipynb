{
 "cells": [
  {
   "cell_type": "code",
   "execution_count": null,
   "id": "364f0d8a-78ea-43bf-bd11-78a4111f7803",
   "metadata": {},
   "outputs": [],
   "source": [
    "import pandas as pd\n",
    "import numpy as np\n",
    "import os\n",
    "from PIL import Image\n",
    "import matplotlib.pyplot as plt\n",
    "import matplotlib.patheffects as PathEffects\n",
    "import pylab\n",
    "import plotly.express as px\n",
    "%matplotlib inline\n",
    "import seaborn as sns\n",
    "sns.set_style('darkgrid')\n",
    "sns.set_palette('muted')\n",
    "sns.set_context(\"notebook\", font_scale=1.5,\n",
    "                rc={\"lines.linewidth\": 2.5})"
   ]
  },
  {
   "cell_type": "code",
   "execution_count": null,
   "id": "9ee6bb94-90c0-4891-8aaa-d58d0d3eb5c8",
   "metadata": {},
   "outputs": [],
   "source": [
    "IMG_H = 128\n",
    "IMG_W = 128\n",
    "IMG_C = 3"
   ]
  },
  {
   "cell_type": "code",
   "execution_count": null,
   "id": "6fd62ee4-0d6d-4bad-8686-b0e8f7904357",
   "metadata": {},
   "outputs": [],
   "source": [
    "def prep_stage(img):\n",
    "    img= np.resize(img,(IMG_H,IMG_W,IMG_C))\n",
    "    img = img.astype('float32')\n",
    "    img /= 255\n",
    "  \n",
    "    return img.ravel()\n",
    "def create_dataset_PIL(img_folder, limit=100, ext=\".png\"):\n",
    "    img_data_array=[]\n",
    "    class_name=[]\n",
    "    \n",
    "    for dir1 in os.listdir(img_folder):\n",
    "        counter = 0\n",
    "        if dir1 != \".DS_Store\" and dir1 != \".ipynb_checkpoints\":\n",
    "            \n",
    "            for file in os.listdir(os.path.join(img_folder, dir1)):\n",
    "\n",
    "                image_path= os.path.join(img_folder, dir1,  file)\n",
    "                _, file_extension = os.path.splitext(image_path)\n",
    "                if file_extension == ext:\n",
    "                    \n",
    "                    image= np.array(Image.open(image_path))\n",
    "                    \n",
    "                    image = prep_stage(image)\n",
    "                    \n",
    "                    \n",
    "                    img_data_array.append(image)\n",
    "                    class_name.append(dir1)\n",
    "                    counter += 1\n",
    "                    if limit == counter:\n",
    "                        break\n",
    "                \n",
    "    return np.array(img_data_array) , np.array(class_name)"
   ]
  },
  {
   "cell_type": "code",
   "execution_count": null,
   "id": "c80e9c0f-ce05-4a78-842e-12bea0cfe004",
   "metadata": {},
   "outputs": [],
   "source": [
    "img_folder = \"mura_data/RGB/mura_march_clean/test_data\"\n",
    "PIL_img_data, class_name=create_dataset_PIL(img_folder, 1000)"
   ]
  },
  {
   "cell_type": "code",
   "execution_count": null,
   "id": "4503482f-f1f8-458a-b3ab-0ac7b23c9bbd",
   "metadata": {},
   "outputs": [],
   "source": [
    "print(len(PIL_img_data), len(class_name))"
   ]
  },
  {
   "cell_type": "code",
   "execution_count": null,
   "id": "e776346a-3899-4d80-8560-54d5b91808f1",
   "metadata": {},
   "outputs": [],
   "source": [
    "labels = [\"normal\", \"defect\"]\n",
    "target_dict={k: v for v, k in enumerate(labels)}\n",
    "target_dict"
   ]
  },
  {
   "cell_type": "code",
   "execution_count": null,
   "id": "fa890bbb-3524-4907-b197-2f8cad76a143",
   "metadata": {},
   "outputs": [],
   "source": [
    "target_val =  [target_dict[class_name[i]] for i in range(len(class_name))]\n",
    "len(target_val)\n",
    "target_val = np.array(target_val)\n",
    "target_val.shape"
   ]
  },
  {
   "cell_type": "code",
   "execution_count": null,
   "id": "7373ed57-9e71-426c-a492-cc8b4d77a014",
   "metadata": {},
   "outputs": [],
   "source": [
    "PIL_img_data.shape"
   ]
  },
  {
   "cell_type": "code",
   "execution_count": null,
   "id": "655016dd-775b-435e-ac03-e2268f2140df",
   "metadata": {},
   "outputs": [],
   "source": [
    "PIL_img_data"
   ]
  },
  {
   "cell_type": "code",
   "execution_count": null,
   "id": "958f77f6-7f15-4e79-8385-e29832097f0c",
   "metadata": {},
   "outputs": [],
   "source": [
    "from sklearn.manifold import TSNE\n",
    "import time\n",
    "time_start = time.time()\n",
    "RS = 123\n",
    "\n",
    "tsne_result = TSNE(n_components=3, random_state=RS).fit_transform(PIL_img_data)\n",
    "    \n",
    "print(f\"t-SNE done! Time elapsed: {time.time()-time_start} seconds\")"
   ]
  },
  {
   "cell_type": "code",
   "execution_count": null,
   "id": "c121e2e1-863a-4064-83f0-45e11342c988",
   "metadata": {},
   "outputs": [],
   "source": [
    "print(tsne_result.shape)\n",
    "\n",
    "fig = px.scatter_3d(\n",
    "    tsne_result, x=0, y=1, z=2,\n",
    "    color=target_val, labels={'color': 'classes'}\n",
    ")\n",
    "fig.update_traces(marker_size=8)\n",
    "fig.show()\n",
    "fig.write_image(\"fig1.png\")"
   ]
  },
  {
   "cell_type": "code",
   "execution_count": null,
   "id": "203581d4-a322-4051-8995-06b5327956c2",
   "metadata": {},
   "outputs": [],
   "source": [
    "tsne_result_2D = TSNE(n_components=2, random_state=RS).fit_transform(PIL_img_data)\n",
    "df = pd.DataFrame()\n",
    "df[\"y\"] = target_val\n",
    "df[\"comp-1\"] = tsne_result_2D[:,0]\n",
    "df[\"comp-2\"] = tsne_result_2D[:,1]"
   ]
  },
  {
   "cell_type": "code",
   "execution_count": null,
   "id": "8c8113c2-1e81-4fa2-a9f1-52a102472b54",
   "metadata": {},
   "outputs": [],
   "source": [
    "print(f\"t-SNE done! Time elapsed: {time.time()-time_start} seconds\")\n",
    "print(target_val)\n",
    "sc = sns.scatterplot(x=\"comp-1\", y=\"comp-2\", hue=df.y.tolist(),\n",
    "                palette=sns.color_palette(\"hls\", len(np.unique(target_val))),\n",
    "                data=df).set(title=\"Mura data T-SNE projection\")\n",
    "plt.savefig('fig2.png')\n",
    "plt.show()"
   ]
  },
  {
   "cell_type": "code",
   "execution_count": null,
   "id": "419f3ad9-c7a9-4f7f-a9a8-41ca61f18b77",
   "metadata": {},
   "outputs": [],
   "source": []
  }
 ],
 "metadata": {
  "kernelspec": {
   "display_name": "Python 3 (ipykernel)",
   "language": "python",
   "name": "python3"
  },
  "language_info": {
   "codemirror_mode": {
    "name": "ipython",
    "version": 3
   },
   "file_extension": ".py",
   "mimetype": "text/x-python",
   "name": "python",
   "nbconvert_exporter": "python",
   "pygments_lexer": "ipython3",
   "version": "3.9.9"
  }
 },
 "nbformat": 4,
 "nbformat_minor": 5
}
