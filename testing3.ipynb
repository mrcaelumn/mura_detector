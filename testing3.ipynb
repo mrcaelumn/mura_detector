{
 "cells": [
  {
   "cell_type": "code",
   "execution_count": 1,
   "id": "b89826ae",
   "metadata": {},
   "outputs": [],
   "source": [
    "import tensorflow as tf\n",
    "import matplotlib.pyplot as plt\n",
    "import numpy as np\n",
    "IMG_H = 128\n",
    "IMG_W = 128\n",
    "IMG_C = 3  ## Change this to 1 for grayscale."
   ]
  },
  {
   "cell_type": "code",
   "execution_count": 2,
   "id": "413cb8b5",
   "metadata": {},
   "outputs": [],
   "source": [
    "def bcet(img):\n",
    "\n",
    "    \n",
    "    Lmin = tf.reduce_min(img) # MINIMUM OF INPUT IMAGE\n",
    "#     Lmin = np.min(img) # MINIMUM OF INPUT IMAGE\n",
    "#     print(\"Lmin\", Lmin)\n",
    "    Lmax = tf.reduce_max(img) # MAXIMUM OF INPUT IMAGE\n",
    "#     Lmax = np.max(img) # MAXIMUM OF INPUT IMAGE\n",
    "#     print(\"Lmax\", Lmax)\n",
    "    Lmean = tf.reduce_mean(img) #MEAN OF INPUT IMAGE\n",
    "#     Lmean = np.mean(img) #MEAN OF INPUT IMAGE\n",
    "#     print(\"Lmean\", Lmean)\n",
    "    LMssum = tf.reduce_mean(img * img) #MEAN SQUARE SUM OF INPUT IMAGE\n",
    "#     LMssum = np.mean(pow(img, 2)) #MEAN SQUARE SUM OF INPUT IMAGE\n",
    "#     print(\"LMssum\", LMssum)\n",
    "\n",
    "    Gmin = tf.constant(0, dtype=\"float32\") #MINIMUM OF OUTPUT IMAGE\n",
    "    Gmax = tf.constant(255, dtype=\"float32\") #MAXIMUM OF OUTPUT IMAGE\n",
    "    Gmean = tf.constant(110, dtype=\"float32\") #MEAN OF OUTPUT IMAGE\n",
    "    \n",
    "    subber = tf.constant(2, dtype=\"float32\")\n",
    "\n",
    "    bnum = Lmax * Lmax *(Gmean-Gmin) - LMssum*(Gmax-Gmin) + Lmin * Lmin *(Gmax-Gmean)\n",
    "    bden = subber*(Lmax*(Gmean-Gmin)-Lmean*(Gmax-Gmin)+Lmin*(Gmax-Gmean))\n",
    "\n",
    "    b = bnum/bden\n",
    "\n",
    "    a = (Gmax-Gmin)/((Lmax-Lmin)*(Lmax+Lmin-subber*b))\n",
    "\n",
    "    c = Gmin - a*(Lmin-b) * (Lmin-b)\n",
    "\n",
    "    y = a * (img-b) * (img-b) + c #PARABOLIC FUNCTION\n",
    "\n",
    "    return y"
   ]
  },
  {
   "cell_type": "code",
   "execution_count": 3,
   "id": "70a5620f",
   "metadata": {},
   "outputs": [],
   "source": [
    "def bcet_processing(img,channels=3):\n",
    "#     img = tf.make_tensor_proto(img,dtype=\"int64\")\n",
    "#     img = tf.make_ndarray(img)\n",
    "#     print(img.shape)\n",
    "    layers = []\n",
    "    for i in range(channels):\n",
    "        layer = img[:,:,i]\n",
    "        layer = bcet(layer)\n",
    "        layers.append(layer)\n",
    "        \n",
    "# #     print(red.shape)\n",
    "#     blue = img[:,:,1]\n",
    "# #     print(blue.shape)\n",
    "#     green = img[:,:,2]\n",
    "#     red = img[:,:,0]\n",
    "# #     print(red.shape)\n",
    "#     blue = img[:,:,1]\n",
    "# #     print(blue.shape)\n",
    "#     green = img[:,:,2]\n",
    "# #     print(green.shape)\n",
    "    \n",
    "#     red = bcet(red)\n",
    "# #     print(red.shape)\n",
    "#     blue = bcet(blue)\n",
    "# #     print(blue.shape)\n",
    "#     green = bcet(green)\n",
    "# #     print(green.shape)\n",
    "    \n",
    "#     final_image = np.stack((red, blue, green), axis=-1)\n",
    "#     final_image = tf.convert_to_tensor(final_image, dtype=tf.int64) \n",
    "#     print(final_image.shape)\n",
    "    final_image = tf.stack(layers, axis=-1)\n",
    "#     print(final_image.shape)\n",
    "    return final_image"
   ]
  },
  {
   "cell_type": "code",
   "execution_count": 6,
   "id": "4087e8cc",
   "metadata": {},
   "outputs": [
    {
     "ename": "InvalidArgumentError",
     "evalue": "`channels` must be 0, 3 or 4 for BMP, but got 1 [Op:DecodeBmp]",
     "output_type": "error",
     "traceback": [
      "\u001b[0;31m---------------------------------------------------------------------------\u001b[0m",
      "\u001b[0;31mInvalidArgumentError\u001b[0m                      Traceback (most recent call last)",
      "\u001b[0;32m<ipython-input-6-bc3827c47328>\u001b[0m in \u001b[0;36m<module>\u001b[0;34m\u001b[0m\n\u001b[1;32m      3\u001b[0m \u001b[0;34m\u001b[0m\u001b[0m\n\u001b[1;32m      4\u001b[0m \u001b[0mimg\u001b[0m \u001b[0;34m=\u001b[0m \u001b[0mtf\u001b[0m\u001b[0;34m.\u001b[0m\u001b[0mio\u001b[0m\u001b[0;34m.\u001b[0m\u001b[0mread_file\u001b[0m\u001b[0;34m(\u001b[0m\u001b[0mfilename\u001b[0m\u001b[0;34m)\u001b[0m\u001b[0;34m\u001b[0m\u001b[0;34m\u001b[0m\u001b[0m\n\u001b[0;32m----> 5\u001b[0;31m \u001b[0mimg\u001b[0m \u001b[0;34m=\u001b[0m \u001b[0mtf\u001b[0m\u001b[0;34m.\u001b[0m\u001b[0mio\u001b[0m\u001b[0;34m.\u001b[0m\u001b[0mdecode_bmp\u001b[0m\u001b[0;34m(\u001b[0m\u001b[0mimg\u001b[0m\u001b[0;34m,\u001b[0m \u001b[0mchannels\u001b[0m\u001b[0;34m=\u001b[0m\u001b[0;36m1\u001b[0m\u001b[0;34m)\u001b[0m\u001b[0;34m\u001b[0m\u001b[0;34m\u001b[0m\u001b[0m\n\u001b[0m\u001b[1;32m      6\u001b[0m \u001b[0;31m# print(tf.rank(img))\u001b[0m\u001b[0;34m\u001b[0m\u001b[0;34m\u001b[0m\u001b[0;34m\u001b[0m\u001b[0m\n\u001b[1;32m      7\u001b[0m \u001b[0mimg\u001b[0m \u001b[0;34m=\u001b[0m \u001b[0mtf\u001b[0m\u001b[0;34m.\u001b[0m\u001b[0mcast\u001b[0m\u001b[0;34m(\u001b[0m\u001b[0mimg\u001b[0m\u001b[0;34m,\u001b[0m \u001b[0mtf\u001b[0m\u001b[0;34m.\u001b[0m\u001b[0mfloat32\u001b[0m\u001b[0;34m)\u001b[0m\u001b[0;34m\u001b[0m\u001b[0;34m\u001b[0m\u001b[0m\n",
      "\u001b[0;32m~/YZU/.jupyter_env/lib/python3.8/site-packages/tensorflow/python/ops/gen_image_ops.py\u001b[0m in \u001b[0;36mdecode_bmp\u001b[0;34m(contents, channels, name)\u001b[0m\n\u001b[1;32m    895\u001b[0m       \u001b[0;32mreturn\u001b[0m \u001b[0m_result\u001b[0m\u001b[0;34m\u001b[0m\u001b[0;34m\u001b[0m\u001b[0m\n\u001b[1;32m    896\u001b[0m     \u001b[0;32mexcept\u001b[0m \u001b[0m_core\u001b[0m\u001b[0;34m.\u001b[0m\u001b[0m_NotOkStatusException\u001b[0m \u001b[0;32mas\u001b[0m \u001b[0me\u001b[0m\u001b[0;34m:\u001b[0m\u001b[0;34m\u001b[0m\u001b[0;34m\u001b[0m\u001b[0m\n\u001b[0;32m--> 897\u001b[0;31m       \u001b[0m_ops\u001b[0m\u001b[0;34m.\u001b[0m\u001b[0mraise_from_not_ok_status\u001b[0m\u001b[0;34m(\u001b[0m\u001b[0me\u001b[0m\u001b[0;34m,\u001b[0m \u001b[0mname\u001b[0m\u001b[0;34m)\u001b[0m\u001b[0;34m\u001b[0m\u001b[0;34m\u001b[0m\u001b[0m\n\u001b[0m\u001b[1;32m    898\u001b[0m     \u001b[0;32mexcept\u001b[0m \u001b[0m_core\u001b[0m\u001b[0;34m.\u001b[0m\u001b[0m_FallbackException\u001b[0m\u001b[0;34m:\u001b[0m\u001b[0;34m\u001b[0m\u001b[0;34m\u001b[0m\u001b[0m\n\u001b[1;32m    899\u001b[0m       \u001b[0;32mpass\u001b[0m\u001b[0;34m\u001b[0m\u001b[0;34m\u001b[0m\u001b[0m\n",
      "\u001b[0;32m~/YZU/.jupyter_env/lib/python3.8/site-packages/tensorflow/python/framework/ops.py\u001b[0m in \u001b[0;36mraise_from_not_ok_status\u001b[0;34m(e, name)\u001b[0m\n\u001b[1;32m   6895\u001b[0m   \u001b[0mmessage\u001b[0m \u001b[0;34m=\u001b[0m \u001b[0me\u001b[0m\u001b[0;34m.\u001b[0m\u001b[0mmessage\u001b[0m \u001b[0;34m+\u001b[0m \u001b[0;34m(\u001b[0m\u001b[0;34m\" name: \"\u001b[0m \u001b[0;34m+\u001b[0m \u001b[0mname\u001b[0m \u001b[0;32mif\u001b[0m \u001b[0mname\u001b[0m \u001b[0;32mis\u001b[0m \u001b[0;32mnot\u001b[0m \u001b[0;32mNone\u001b[0m \u001b[0;32melse\u001b[0m \u001b[0;34m\"\"\u001b[0m\u001b[0;34m)\u001b[0m\u001b[0;34m\u001b[0m\u001b[0;34m\u001b[0m\u001b[0m\n\u001b[1;32m   6896\u001b[0m   \u001b[0;31m# pylint: disable=protected-access\u001b[0m\u001b[0;34m\u001b[0m\u001b[0;34m\u001b[0m\u001b[0;34m\u001b[0m\u001b[0m\n\u001b[0;32m-> 6897\u001b[0;31m   \u001b[0msix\u001b[0m\u001b[0;34m.\u001b[0m\u001b[0mraise_from\u001b[0m\u001b[0;34m(\u001b[0m\u001b[0mcore\u001b[0m\u001b[0;34m.\u001b[0m\u001b[0m_status_to_exception\u001b[0m\u001b[0;34m(\u001b[0m\u001b[0me\u001b[0m\u001b[0;34m.\u001b[0m\u001b[0mcode\u001b[0m\u001b[0;34m,\u001b[0m \u001b[0mmessage\u001b[0m\u001b[0;34m)\u001b[0m\u001b[0;34m,\u001b[0m \u001b[0;32mNone\u001b[0m\u001b[0;34m)\u001b[0m\u001b[0;34m\u001b[0m\u001b[0;34m\u001b[0m\u001b[0m\n\u001b[0m\u001b[1;32m   6898\u001b[0m   \u001b[0;31m# pylint: enable=protected-access\u001b[0m\u001b[0;34m\u001b[0m\u001b[0;34m\u001b[0m\u001b[0;34m\u001b[0m\u001b[0m\n\u001b[1;32m   6899\u001b[0m \u001b[0;34m\u001b[0m\u001b[0m\n",
      "\u001b[0;32m~/YZU/.jupyter_env/lib/python3.8/site-packages/six.py\u001b[0m in \u001b[0;36mraise_from\u001b[0;34m(value, from_value)\u001b[0m\n",
      "\u001b[0;31mInvalidArgumentError\u001b[0m: `channels` must be 0, 3 or 4 for BMP, but got 1 [Op:DecodeBmp]"
     ]
    }
   ],
   "source": [
    "\n",
    "filename = \"mura_data/RGB/test_data/defect/defect.bmp\"\n",
    "# filename = \"mura_data/RGB/test_data/normal/normal.bmp\"\n",
    "\n",
    "img = tf.io.read_file(filename)\n",
    "img = tf.io.decode_bmp(img, channels=3)\n",
    "# print(tf.rank(img))\n",
    "img = tf.cast(img, tf.float32)\n",
    "\n",
    "plt.title(\"Normal\")\n",
    "\n",
    "normal = tf.cast(img, tf.int64)\n",
    "plt.imshow(normal)\n",
    "plt.figure()\n",
    "\n",
    "imag = bcet_processing(img)\n",
    "imag = tf.cast(imag, tf.int64)\n",
    "plt.title(\"Normal\")\n",
    "plt.imshow(imag)\n",
    "plt.figure()"
   ]
  },
  {
   "cell_type": "code",
   "execution_count": null,
   "id": "0713b8e8",
   "metadata": {},
   "outputs": [],
   "source": []
  }
 ],
 "metadata": {
  "kernelspec": {
   "display_name": "Python 3",
   "language": "python",
   "name": "python3"
  },
  "language_info": {
   "codemirror_mode": {
    "name": "ipython",
    "version": 3
   },
   "file_extension": ".py",
   "mimetype": "text/x-python",
   "name": "python",
   "nbconvert_exporter": "python",
   "pygments_lexer": "ipython3",
   "version": "3.8.2"
  }
 },
 "nbformat": 4,
 "nbformat_minor": 5
}
