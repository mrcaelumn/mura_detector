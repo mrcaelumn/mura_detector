{
 "cells": [
  {
   "cell_type": "code",
   "execution_count": 11,
   "id": "1892974a-dfea-48f1-96f8-f9f2c1560af7",
   "metadata": {},
   "outputs": [],
   "source": [
    "import tensorflow as tf\n",
    "from scipy.fftpack import dct\n",
    "import matplotlib.pyplot as plt\n",
    "import cv2\n",
    "import numpy as np"
   ]
  },
  {
   "cell_type": "code",
   "execution_count": 12,
   "id": "551ba5a7-d17f-4f2b-9ba8-f32415b52e44",
   "metadata": {},
   "outputs": [],
   "source": [
    "kernel_size = (20, 20)\n",
    "\n",
    "def histo_equalize(img):\n",
    "    lab_planes = cv2.split(img)\n",
    "    eq_channels = []\n",
    "    for ch in lab_planes:\n",
    "        eq_channels.append(cv2.equalizeHist(ch))\n",
    "\n",
    "    img = cv2.merge(eq_channels)\n",
    "\n",
    "    img = cv2.cvtColor(img, cv2.COLOR_LAB2BGR)\n",
    "    return img\n",
    "\n",
    "def opening_ops(img):\n",
    "    kernel = cv2.getStructuringElement(cv2.MORPH_RECT, kernel_size)\n",
    "    img = cv2.morphologyEx(img, cv2.MORPH_OPEN, kernel)\n",
    "    return img\n",
    "\n",
    "def closing_ops(img):\n",
    "    kernel = cv2.getStructuringElement(cv2.MORPH_RECT, kernel_size)\n",
    "    img = cv2.morphologyEx(img, cv2.MORPH_CLOSE, kernel)\n",
    "    return img\n",
    "\n",
    "def gabor_filter(img):\n",
    "    img = cv2.cvtColor(img, cv2.COLOR_BGR2GRAY)\n",
    "    g_kernel = cv2.getGaborKernel(kernel_size, 8.0, np.pi/4, 10.0, 0.5, 0, ktype=cv2.CV_32F)\n",
    "    img = cv2.filter2D(img, cv2.CV_8UC3, g_kernel)\n",
    "    return img\n",
    "\n",
    "\n",
    "def convert_SVD(img):\n",
    "    img = np.mean(img, 2)\n",
    "\n",
    "    U,s,V = np.linalg.svd(img)\n",
    "\n",
    "    n = 255\n",
    "    S = np.zeros(np.shape(img))\n",
    "    for i in range(0, n):\n",
    "        S[i,i] = s[i]\n",
    "\n",
    "    img = U @ S @ V\n",
    "    img = np.stack((img,)*3, axis=-1)\n",
    "    return img\n",
    "\n",
    "def convert_DCT(img):\n",
    "    # implement 2D DCT\n",
    "    img = dct(dct(img.T, norm='ortho').T, norm='ortho')\n",
    "    # img = np.expand_dims(img, axis=-1)\n",
    "    return img"
   ]
  },
  {
   "cell_type": "code",
   "execution_count": 13,
   "id": "5a1e8137-b274-42e3-8bb9-520365f2be35",
   "metadata": {},
   "outputs": [
    {
     "name": "stderr",
     "output_type": "stream",
     "text": [
      "Clipping input data to the valid range for imshow with RGB data ([0..1] for floats or [0..255] for integers).\n"
     ]
    },
    {
     "name": "stdout",
     "output_type": "stream",
     "text": [
      "(256, 256, 3)\n",
      "(256, 256, 3)\n"
     ]
    },
    {
     "data": {
      "text/plain": [
       "<matplotlib.image.AxesImage at 0x142f43670>"
      ]
     },
     "execution_count": 13,
     "metadata": {},
     "output_type": "execute_result"
    },
    {
     "data": {
      "image/png": "[encoded data removed]",
      "text/plain": [
       "<Figure size 432x288 with 1 Axes>"
      ]
     },
     "metadata": {
      "needs_background": "light"
     },
     "output_type": "display_data"
    }
   ],
   "source": [
    "defect_img = cv2.imread(\"mura_data/RGB/test_data_nctu/defect/defect.png\")\n",
    "\n",
    "defect_img = convert_SVD(defect_img)\n",
    "print(convert_SVD(defect_img).shape)\n",
    "print(convert_DCT(defect_img).shape)\n",
    "defect_img =  convert_DCT(defect_img) - convert_SVD(defect_img) + 128\n",
    "defect_img =  np.subtract(convert_DCT(defect_img), convert_SVD(defect_img))\n",
    "defect_img = np.add(defect_img, 128.0)\n",
    "\n",
    "\n",
    "# defect_img = cv2.cvtColor(defect_img, cv2.COLOR_BGR2LAB)\n",
    "\n",
    "# defect_img = opening_ops(defect_img)\n",
    "# defect_img = closing_ops(defect_img)\n",
    "# defect_img = histo_equalize(defect_img)\n",
    "# defect_img = gabor_filter(defect_img)\n",
    "# defect_img = histo_equalize(defect_img)\n",
    "\n",
    "# defect_img = cv2.cvtColor(defect_img, cv2.COLOR_GRAY2RGB)\n",
    "    \n",
    "plt.imshow(defect_img)"
   ]
  },
  {
   "cell_type": "code",
   "execution_count": null,
   "id": "b8d1e7b0-1edd-4116-9b3f-c74c7d326358",
   "metadata": {},
   "outputs": [],
   "source": [
    "normal_img = cv2.imread(\"mura_data/RGB/test_data_nctu/normal/normal.png\")\n",
    "# normal_img = cv2.cvtColor(normal_img, cv2.COLOR_BGR2GRAY)\n",
    "# normal_img = convert_SVD(normal_img)\n",
    "# normal_img = convert_DCT(normal_img) - convert_SVD(normal_img) + 128\n",
    "# normal_img = np.subtract(convert_DCT(defect_img), convert_SVD(defect_img))\n",
    "# normal_img = np.add(normal_img, 128.0)\n",
    "\n",
    "\n",
    "normal_img = cv2.cvtColor(normal_img, cv2.COLOR_BGR2LAB)\n",
    "\n",
    "normal_img = opening_ops(normal_img)\n",
    "normal_img = closing_ops(normal_img)\n",
    "normal_img = histo_equalize(normal_img)\n",
    "normal_img = gabor_filter(normal_img)\n",
    "# normal_img = histo_equalize(normal_img)\n",
    "\n",
    "# normal_img = cv2.cvtColor(normal_img, cv2.COLOR_GRAY2RGB)\n",
    "\n",
    "plt.imshow(normal_img)"
   ]
  },
  {
   "cell_type": "code",
   "execution_count": null,
   "id": "a683ff07-d874-4096-905b-978d1b529f92",
   "metadata": {},
   "outputs": [],
   "source": []
  }
 ],
 "metadata": {
  "kernelspec": {
   "display_name": "Python 3 (ipykernel)",
   "language": "python",
   "name": "python3"
  },
  "language_info": {
   "codemirror_mode": {
    "name": "ipython",
    "version": 3
   },
   "file_extension": ".py",
   "mimetype": "text/x-python",
   "name": "python",
   "nbconvert_exporter": "python",
   "pygments_lexer": "ipython3",
   "version": "3.9.9"
  }
 },
 "nbformat": 4,
 "nbformat_minor": 5
}
