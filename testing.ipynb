{
 "cells": [
  {
   "cell_type": "code",
   "execution_count": null,
   "id": "1892974a-dfea-48f1-96f8-f9f2c1560af7",
   "metadata": {},
   "outputs": [],
   "source": [
    "import tensorflow as tf\n",
    "import matplotlib.pyplot as plt\n",
    "import cv2\n",
    "import numpy as np"
   ]
  },
  {
   "cell_type": "code",
   "execution_count": null,
   "id": "551ba5a7-d17f-4f2b-9ba8-f32415b52e44",
   "metadata": {},
   "outputs": [],
   "source": [
    "def dept_estimation(image_path, mask):\n",
    "    \"\"\"Load input and target image.\"\"\"\n",
    "\n",
    "    image_ = cv2.imread(image_path)\n",
    "    image_ = cv2.cvtColor(image_, cv2.COLOR_BGR2RGB)\n",
    "    image_ = cv2.resize(image_, self.dim)\n",
    "    image_ = tf.image.convert_image_dtype(image_, tf.float32)\n",
    "\n",
    "    depth_map = np.load(depth_map).squeeze()\n",
    "\n",
    "    mask = np.load(mask)\n",
    "    mask = mask > 0\n",
    "\n",
    "    max_depth = min(300, np.percentile(depth_map, 99))\n",
    "    depth_map = np.clip(depth_map, self.min_depth, max_depth)\n",
    "    depth_map = np.log(depth_map, where=mask)\n",
    "\n",
    "    depth_map = np.ma.masked_where(~mask, depth_map)\n",
    "\n",
    "    depth_map = np.clip(depth_map, 0.1, np.log(max_depth))\n",
    "    depth_map = cv2.resize(depth_map, self.dim)\n",
    "    depth_map = np.expand_dims(depth_map, axis=2)\n",
    "    depth_map = tf.image.convert_image_dtype(depth_map, tf.float32)\n",
    "\n",
    "    return image_, depth_map"
   ]
  },
  {
   "cell_type": "code",
   "execution_count": null,
   "id": "5a1e8137-b274-42e3-8bb9-520365f2be35",
   "metadata": {},
   "outputs": [],
   "source": [
    "inputFile = \"mura_data/RGB/test_data/defect/defect5.bmp\"\n",
    "\n",
    "defect_img = cv2.imread(inputFile)\n",
    "\n",
    "plt.imshow(defect_img)\n",
    "\n",
    "\n",
    "\n",
    "\n",
    "defect_img = convert_sobelxy(inputFile)\n",
    "\n",
    "plt.imshow(defect_img.astype(np.uint8))\n",
    "\n",
    "\n",
    "    \n"
   ]
  },
  {
   "cell_type": "code",
   "execution_count": null,
   "id": "b8d1e7b0-1edd-4116-9b3f-c74c7d326358",
   "metadata": {},
   "outputs": [],
   "source": [
    "inputFile = \"mura_data/RGB/test_data/normal/normal5.bmp\"\n",
    "\n",
    "normal_img = cv2.imread(inputFile)\n",
    "plt.imshow(normal_img)\n",
    "\n",
    "\n",
    "normal_img = convert_sobelxy(inputFile)\n",
    "\n",
    "plt.imshow(normal_img.astype(np.uint8))\n"
   ]
  },
  {
   "cell_type": "code",
   "execution_count": null,
   "id": "a683ff07-d874-4096-905b-978d1b529f92",
   "metadata": {},
   "outputs": [],
   "source": []
  }
 ],
 "metadata": {
  "kernelspec": {
   "display_name": "Python 3 (ipykernel)",
   "language": "python",
   "name": "python3"
  },
  "language_info": {
   "codemirror_mode": {
    "name": "ipython",
    "version": 3
   },
   "file_extension": ".py",
   "mimetype": "text/x-python",
   "name": "python",
   "nbconvert_exporter": "python",
   "pygments_lexer": "ipython3",
   "version": "3.9.9"
  }
 },
 "nbformat": 4,
 "nbformat_minor": 5
}
