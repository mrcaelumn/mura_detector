{
 "cells": [
  {
   "cell_type": "code",
   "execution_count": null,
   "id": "34268af3-8b93-494c-9d37-9c1e9ad54ad2",
   "metadata": {},
   "outputs": [],
   "source": [
    "from glob import glob\n",
    "import random\n",
    "import math\n",
    "import os\n",
    "\n",
    "import numpy as np\n",
    "import pandas as pd \n",
    "import matplotlib.pyplot as plot\n",
    "import seaborn\n",
    "\n",
    "import time\n",
    "from random import sample \n",
    "import cv2"
   ]
  },
  {
   "cell_type": "code",
   "execution_count": null,
   "id": "6b314a71-4b10-4ca4-a0f2-39aa51ffbc86",
   "metadata": {},
   "outputs": [],
   "source": [
    "dataset = \"mura_pca\"\n",
    "normal_train_img_fn = glob(f'mura_data/RGB/{dataset}/train_data/normal/*.png')\n",
    "defect_test_img_fn = glob(f'mura_data/RGB/{dataset}/test_data/defect/*.png')"
   ]
  },
  {
   "cell_type": "code",
   "execution_count": null,
   "id": "c1a8e029-38cb-48dd-96c7-417cddec6935",
   "metadata": {},
   "outputs": [],
   "source": [
    "normal_img = sample(normal_train_img_fn,1000)\n",
    "defect_img = sample(defect_test_img_fn,1000)\n",
    "\n",
    "df_analysis = pd.DataFrame(columns=['image_path','mean','std', 'class'])\n",
    "df_analysis"
   ]
  },
  {
   "cell_type": "code",
   "execution_count": null,
   "id": "fb984b23-8800-4162-a2a0-d8ea7c6e7357",
   "metadata": {},
   "outputs": [],
   "source": [
    "for img_path in normal_img:\n",
    "    image = cv2.imread(img_path)\n",
    "    # print(image)\n",
    "    mean = np.mean(image)\n",
    "    std = np.std(image)\n",
    "    # print(mean, image.mean())\n",
    "    # print(std, image.std())\n",
    "    data_row = {\n",
    "        \"image_path\": img_path,\n",
    "        \"mean\": image.mean(),\n",
    "        \"std\": image.std(),\n",
    "        \"class\": 0\n",
    "    }\n",
    "    df_analysis = df_analysis.append(data_row, ignore_index = True)\n",
    "    \n",
    "for img_path in defect_img:\n",
    "    image = cv2.imread(img_path)\n",
    "    # print(image)\n",
    "    mean = np.mean(image)\n",
    "    std = np.std(image)\n",
    "    # print(mean, image.mean())\n",
    "    # print(std, image.std())\n",
    "    data_row = {\n",
    "        \"image_path\": img_path,\n",
    "        \"mean\": image.mean(),\n",
    "        \"std\": image.std(),\n",
    "        \"class\": 1\n",
    "    }\n",
    "    df_analysis = df_analysis.append(data_row, ignore_index = True)"
   ]
  },
  {
   "cell_type": "code",
   "execution_count": null,
   "id": "894321b4-f8bd-41c4-be4a-bd7202845859",
   "metadata": {},
   "outputs": [],
   "source": [
    "df_analysis.tail()"
   ]
  },
  {
   "cell_type": "code",
   "execution_count": null,
   "id": "e1732aa8-fd89-49ce-8c60-6320cd512c0b",
   "metadata": {},
   "outputs": [],
   "source": [
    "seaborn.relplot(data=df_analysis, x='mean', y='std', hue='class', hue_order=[0,1], aspect=1.61)\n",
    "plot.show()"
   ]
  },
  {
   "cell_type": "code",
   "execution_count": null,
   "id": "9646abf7-8ce6-42cb-8845-4af2e1e82227",
   "metadata": {},
   "outputs": [],
   "source": [
    "images = sample(normal_train_img_fn,10000)\n",
    "df = pd.DataFrame(columns=['image_path','mean','std'])\n",
    "df"
   ]
  },
  {
   "cell_type": "code",
   "execution_count": null,
   "id": "512a5523-4775-4355-b409-a502b1e1db2c",
   "metadata": {},
   "outputs": [],
   "source": [
    "for img_path in images:\n",
    "    image = cv2.imread(img_path)\n",
    "    # print(image)\n",
    "    mean = np.mean(image)\n",
    "    std = np.std(image)\n",
    "    # print(mean, image.mean())\n",
    "    # print(std, image.std())\n",
    "    data_row = {\n",
    "        \"image_path\": img_path,\n",
    "        \"mean\": image.mean(),\n",
    "        \"std\": image.std()\n",
    "    }\n",
    "    df = df.append(data_row, ignore_index = True)"
   ]
  },
  {
   "cell_type": "code",
   "execution_count": null,
   "id": "cc8d1b92-29ee-4523-acf5-11321dde1261",
   "metadata": {},
   "outputs": [],
   "source": [
    "df.head()"
   ]
  },
  {
   "cell_type": "code",
   "execution_count": null,
   "id": "fe7cadcd-6b65-4e26-b4ca-5e6112c6b137",
   "metadata": {},
   "outputs": [],
   "source": [
    "# Draw a scatter plot\n",
    "df.plot.scatter(x = 'mean', y = 'std', s = 3, c=\"red\");"
   ]
  },
  {
   "cell_type": "code",
   "execution_count": null,
   "id": "a6dc9d90-d158-4b71-86c9-9dc89e1c3e53",
   "metadata": {},
   "outputs": [],
   "source": [
    "from sklearn.preprocessing import StandardScaler\n",
    "from sklearn.cluster import DBSCAN\n",
    "from sklearn.neighbors import NearestNeighbors"
   ]
  },
  {
   "cell_type": "code",
   "execution_count": null,
   "id": "cb9b4f52-9167-4ee2-8d08-0be1ed7acc90",
   "metadata": {},
   "outputs": [],
   "source": [
    "# StandardScaler is used to remove the outliners and scale the data by making the mean of the data 0\n",
    "# and standard deviation as 1. So we are creating an object std_scl to use standardScaler.\n",
    "\n",
    "\n",
    "std_slc = StandardScaler()\n",
    "X = df[[\"mean\", \"std\"]]\n",
    "X_std = std_slc.fit_transform(X)"
   ]
  },
  {
   "cell_type": "code",
   "execution_count": null,
   "id": "b0d65f51-f253-4e11-afa7-1a4c3366fbd9",
   "metadata": {},
   "outputs": [],
   "source": [
    "neigh = NearestNeighbors(n_neighbors=3)\n",
    "nbrs = neigh.fit(X)\n",
    "distances, indices = nbrs.kneighbors(X)"
   ]
  },
  {
   "cell_type": "code",
   "execution_count": null,
   "id": "a2b26ff3-cd7a-4a3c-9372-21348f8d46bc",
   "metadata": {},
   "outputs": [],
   "source": [
    "distances = np.sort(distances, axis=0)\n",
    "distances = distances[:,1]\n",
    "plot.plot(distances)"
   ]
  },
  {
   "cell_type": "code",
   "execution_count": null,
   "id": "ad8ec964-965d-4725-b8e2-2f544d0bdedd",
   "metadata": {},
   "outputs": [],
   "source": [
    "clt = DBSCAN(eps = 0.2)\n",
    "\n",
    "model = clt.fit(X_std)\n",
    "labels = model.labels_\n",
    "print(labels)"
   ]
  },
  {
   "cell_type": "code",
   "execution_count": null,
   "id": "44587447-7aa4-4f94-a18f-f3e4a7c32abf",
   "metadata": {},
   "outputs": [],
   "source": [
    "clusters = pd.DataFrame(model.fit_predict(X_std))\n",
    "df[\"Cluster\"] = clusters"
   ]
  },
  {
   "cell_type": "code",
   "execution_count": null,
   "id": "7f3a566c-287d-4783-a796-91434420ed6c",
   "metadata": {},
   "outputs": [],
   "source": [
    "df.sort_values(by=['Cluster'], inplace=True, ascending=True)\n",
    "df"
   ]
  },
  {
   "cell_type": "code",
   "execution_count": null,
   "id": "02bbca82-eaf3-40bf-8acf-3cbb770115c9",
   "metadata": {},
   "outputs": [],
   "source": [
    "fig = plot.figure(figsize=(10,10)); ax = fig.add_subplot(111)\n",
    "scatter = ax.scatter(df[\"mean\"],df[\"std\"], c=df[\"Cluster\"],s=50)\n",
    "ax.set_title(\"DBSCAN Clustering\")\n",
    "ax.set_xlabel(\"Mean\")\n",
    "ax.set_ylabel(\"Std\")\n",
    "plot.colorbar(scatter)\n",
    "plot.show()"
   ]
  },
  {
   "cell_type": "code",
   "execution_count": null,
   "id": "bd3bf2e6-27cb-4fcc-b9d2-9f715e81b288",
   "metadata": {},
   "outputs": [],
   "source": []
  }
 ],
 "metadata": {
  "kernelspec": {
   "display_name": "Python 3 (ipykernel)",
   "language": "python",
   "name": "python3"
  },
  "language_info": {
   "codemirror_mode": {
    "name": "ipython",
    "version": 3
   },
   "file_extension": ".py",
   "mimetype": "text/x-python",
   "name": "python",
   "nbconvert_exporter": "python",
   "pygments_lexer": "ipython3",
   "version": "3.9.9"
  }
 },
 "nbformat": 4,
 "nbformat_minor": 5
}
